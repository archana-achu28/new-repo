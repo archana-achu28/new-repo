{
 "cells": [
  {
   "cell_type": "markdown",
   "id": "80b48153-eba0-4195-ba28-6601f909996d",
   "metadata": {},
   "source": [
    "# Data Science Tools and Ecosystem"
   ]
  },
  {
   "cell_type": "markdown",
   "id": "02f39902-312c-423e-b0ac-7d7229c0a526",
   "metadata": {},
   "source": [
    "### In this notebook, Data Science Tools and Ecosystem are summarized."
   ]
  },
  {
   "cell_type": "code",
   "execution_count": null,
   "id": "78392fb3-a034-478e-b92b-3b5ce18dd0b6",
   "metadata": {},
   "outputs": [],
   "source": [
    "### objectives:\n",
    "+ List popular languages for Data Science.\n",
    "+ List popular Data Science Tools.\n",
    "+ Exampl"
   ]
  },
  {
   "cell_type": "markdown",
   "id": "dab96934-91ff-4611-bec8-ae0020675ad5",
   "metadata": {},
   "source": [
    "### Some of the popular languages that Data Scientists use are:\n",
    "1. Python\n",
    "2. R\n",
    "3. SQL"
   ]
  },
  {
   "cell_type": "markdown",
   "id": "cb1785f0-0438-4e3e-971f-00eba5746fbc",
   "metadata": {},
   "source": [
    "### Some of the commonly used libraries used by Data Scientists include:\n",
    "1. NumPy\n",
    "2. Pandas\n",
    "3. Scikit-Learn (sklearn)\n",
    "4. Matplotlib\n",
    "5. Seaborn"
   ]
  },
  {
   "cell_type": "markdown",
   "id": "78ed1b96-c7ea-453d-bb4c-9d41093ef274",
   "metadata": {},
   "source": [
    "### Data Science Tools\n",
    "| S.No | Data Science Tools |\n",
    "| -----| -------------------|\n",
    "| 1. | Jupiter Notebook |\n",
    "| 2. | Microsoft Power BI |\n",
    "| 3. | RStudio |\n",
    "| 4. | Apache Spark and Hadoop |"
   ]
  },
  {
   "cell_type": "markdown",
   "id": "cbb31ba0-3d43-4c13-995a-3fd292df09ec",
   "metadata": {},
   "source": [
    "### Below are a few examples of evaluating arithmetic expressions in Python"
   ]
  },
  {
   "cell_type": "markdown",
   "id": "de9e9ff4-24b8-4334-ad72-b681a225ec87",
   "metadata": {},
   "source": [
    "#This is a simple arithmetic expression yo multiply then add integers"
   ]
  },
  {
   "cell_type": "code",
   "execution_count": 1,
   "id": "cc169140-ebab-490c-900b-db316b1a9310",
   "metadata": {
    "tags": []
   },
   "outputs": [
    {
     "data": {
      "text/plain": [
       "17"
      ]
     },
     "execution_count": 1,
     "metadata": {},
     "output_type": "execute_result"
    }
   ],
   "source": [
    "(3*4)+5"
   ]
  },
  {
   "cell_type": "markdown",
   "id": "4529b57a-ee1e-4601-b6fb-721eefb4be84",
   "metadata": {},
   "source": [
    "#This will convert 200 minutes to hours by dividing by 60"
   ]
  },
  {
   "cell_type": "code",
   "execution_count": 2,
   "id": "d74d4310-5dc7-40af-9843-a7567e8d5c29",
   "metadata": {
    "tags": []
   },
   "outputs": [
    {
     "data": {
      "text/plain": [
       "33.333333333333336"
      ]
     },
     "execution_count": 2,
     "metadata": {},
     "output_type": "execute_result"
    }
   ],
   "source": [
    "200/6"
   ]
  },
  {
   "cell_type": "markdown",
   "id": "bfb62d5b-57ac-4378-b977-1182d9fe5257",
   "metadata": {},
   "source": [
    "# Author\n",
    "ARCHANA. K"
   ]
  },
  {
   "cell_type": "code",
   "execution_count": null,
   "id": "9dbd5e39-9cbf-48bd-8b2d-ed8c0cba0b5b",
   "metadata": {},
   "outputs": [],
   "source": []
  }
 ],
 "metadata": {
  "kernelspec": {
   "display_name": "Python",
   "language": "python",
   "name": "conda-env-python-py"
  },
  "language_info": {
   "codemirror_mode": {
    "name": "ipython",
    "version": 3
   },
   "file_extension": ".py",
   "mimetype": "text/x-python",
   "name": "python",
   "nbconvert_exporter": "python",
   "pygments_lexer": "ipython3",
   "version": "3.7.12"
  }
 },
 "nbformat": 4,
 "nbformat_minor": 5
}
